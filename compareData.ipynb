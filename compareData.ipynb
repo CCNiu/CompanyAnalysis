{
 "cells": [
  {
   "cell_type": "code",
   "execution_count": 1,
   "metadata": {},
   "outputs": [],
   "source": [
    "import pandas as pd"
   ]
  },
  {
   "cell_type": "code",
   "execution_count": 20,
   "metadata": {},
   "outputs": [],
   "source": [
    "df_official = pd.read_csv('BGMOPEN1.csv')\n",
    "df_104 = pd.read_csv('104_Tainan.csv')"
   ]
  },
  {
   "cell_type": "markdown",
   "metadata": {},
   "source": [
    "## 資料預處理"
   ]
  },
  {
   "cell_type": "markdown",
   "metadata": {},
   "source": [
    "### 當初爬蟲時，名稱前後各有一個空格，導致和官方資料比對失敗"
   ]
  },
  {
   "cell_type": "code",
   "execution_count": null,
   "metadata": {},
   "outputs": [],
   "source": [
    "for i in range(len(df_104.index)):\n",
    "    name = df_104.loc[i, \"公司名稱\"]\n",
    "    df_104.loc[i, \"公司名稱\"] = name.replace(' ', '')\n",
    "df_104.to_csv('104_Tainan.csv',index=False)"
   ]
  },
  {
   "cell_type": "code",
   "execution_count": null,
   "metadata": {},
   "outputs": [
    {
     "name": "stdout",
     "output_type": "stream",
     "text": [
      "         公司名稱          產業類別   聯絡人          產業描述    電話    資本額    傳真 員工人數    地址  \\\n",
      "282  啟昱科技有限公司  電子通訊／電腦週邊批發業  暫不提供  電子通訊╱電腦週邊批發業  暫不提供  500萬元  暫不提供  20人  暫不提供   \n",
      "\n",
      "                         公司網址  \n",
      "282  http://www.chief-uni.com  \n"
     ]
    }
   ],
   "source": [
    "col = df_104.loc[df_104['公司名稱'] == '啟昱科技有限公司']\n",
    "print(col)"
   ]
  },
  {
   "cell_type": "code",
   "execution_count": null,
   "metadata": {},
   "outputs": [
    {
     "name": "stdout",
     "output_type": "stream",
     "text": [
      "                        營業地址      統一編號  總機構統一編號     營業人名稱      資本額     設立日期  \\\n",
      "1220664  臺南市新化區北勢里北勢１１３－７號１樓  54550001      NaN  啟昱科技有限公司  5000000  1021219   \n",
      "\n",
      "        組織別名稱 使用統一發票    行業代號           名稱     行業代號1          名稱1  行業代號2  名稱2  \\\n",
      "1220664  有限公司      Y  464211  電子器材、電子設備批發  464999.0  未分類其他機械器具批發    NaN  NaN   \n",
      "\n",
      "         行業代號3  名稱3  \n",
      "1220664    NaN  NaN  \n"
     ]
    }
   ],
   "source": [
    "isOfficial = df_official.loc[df_official['營業人名稱'] == '啟昱科技有限公司']\n",
    "if isOfficial.empty != 1:\n",
    "        print(isOfficial)"
   ]
  },
  {
   "cell_type": "markdown",
   "metadata": {},
   "source": [
    "### 官方資料的地址裡，有時會有空格 (\\u3000)，數字的格式也不同"
   ]
  },
  {
   "cell_type": "code",
   "execution_count": 97,
   "metadata": {},
   "outputs": [
    {
     "name": "stdout",
     "output_type": "stream",
     "text": [
      "臺南市東　區崇文里崇德二十街４２號１樓\n",
      "台南市永康區永大路二段\n"
     ]
    }
   ],
   "source": [
    "isOfficial = df_official.loc[df_official['營業人名稱'] == '昱光能源股份有限公司']\n",
    "index1 = isOfficial.index[isOfficial['營業人名稱'] == '昱光能源股份有限公司'].tolist()\n",
    "print(isOfficial.loc[index1[0], '營業地址'])\n",
    "\n",
    "from104 = df_104.loc[df_104['公司名稱'] == '昱光能源股份有限公司']\n",
    "index2 = from104.index[from104['公司名稱'] == '昱光能源股份有限公司'].tolist()\n",
    "print(from104.loc[index2[0], '地址'])"
   ]
  },
  {
   "cell_type": "code",
   "execution_count": 12,
   "metadata": {},
   "outputs": [
    {
     "name": "stdout",
     "output_type": "stream",
     "text": [
      "['臺中市北屯區平昌里北平路4段68號(東光市場第C72,C75攤位)']\n",
      "臺中市北屯區平昌里北平路4段68號(東光市場第C72,C75攤位)\n"
     ]
    }
   ],
   "source": [
    "isOfficial = df_official.loc[df_official['營業人名稱'] == '大山肉舖']\n",
    "index1 = isOfficial.index[isOfficial['營業人名稱'] == '大山肉舖'].tolist()\n",
    "address = isOfficial.loc[index1[0], '營業地址']\n",
    "print(address.split(' '))\n",
    "isOfficial.loc[index1[0], '營業地址'] = address.replace('\\u3000', '').replace(' ', '')\n",
    "print(isOfficial.loc[index1[0], '營業地址'])"
   ]
  },
  {
   "cell_type": "code",
   "execution_count": 12,
   "metadata": {},
   "outputs": [
    {
     "name": "stdout",
     "output_type": "stream",
     "text": [
      "４\n",
      "False\n",
      "65300\n"
     ]
    }
   ],
   "source": [
    "address = isOfficial.loc[index1[0], '營業地址']\n",
    "print(address[13])\n",
    "print(address[13] == '4')\n",
    "print(ord(address[13])) # fullwidth digit \"four\" ascii code"
   ]
  },
  {
   "cell_type": "code",
   "execution_count": 9,
   "metadata": {},
   "outputs": [
    {
     "name": "stdout",
     "output_type": "stream",
     "text": [
      "南投縣中寮鄉中寮村永平路371號一樓\n"
     ]
    }
   ],
   "source": [
    "import unicodedata\n",
    "address = unicodedata.normalize('NFKC', address)\n",
    "print(address)"
   ]
  },
  {
   "cell_type": "code",
   "execution_count": 10,
   "metadata": {},
   "outputs": [],
   "source": [
    "for i in range(len(df_official.index)):\n",
    "    address = df_official.loc[i, \"營業地址\"]\n",
    "    address = unicodedata.normalize('NFKC', address)\n",
    "    df_official.loc[i, \"營業地址\"] = address.replace('\\u3000', '').replace(' ','')\n",
    "df_official.to_csv('BGMOPEN1.csv',index=False)"
   ]
  },
  {
   "attachments": {},
   "cell_type": "markdown",
   "metadata": {},
   "source": [
    "### 把爬蟲下來的資料增加新的label，如:是否是政府登記(官方)、地址是否和官方一樣等"
   ]
  },
  {
   "cell_type": "code",
   "execution_count": 13,
   "metadata": {},
   "outputs": [
    {
     "data": {
      "text/html": [
       "<div>\n",
       "<style scoped>\n",
       "    .dataframe tbody tr th:only-of-type {\n",
       "        vertical-align: middle;\n",
       "    }\n",
       "\n",
       "    .dataframe tbody tr th {\n",
       "        vertical-align: top;\n",
       "    }\n",
       "\n",
       "    .dataframe thead th {\n",
       "        text-align: right;\n",
       "    }\n",
       "</style>\n",
       "<table border=\"1\" class=\"dataframe\">\n",
       "  <thead>\n",
       "    <tr style=\"text-align: right;\">\n",
       "      <th></th>\n",
       "      <th>公司名稱</th>\n",
       "      <th>產業類別</th>\n",
       "      <th>聯絡人</th>\n",
       "      <th>產業描述</th>\n",
       "      <th>電話</th>\n",
       "      <th>資本額</th>\n",
       "      <th>傳真</th>\n",
       "      <th>員工人數</th>\n",
       "      <th>地址</th>\n",
       "      <th>公司網址</th>\n",
       "      <th>官方</th>\n",
       "    </tr>\n",
       "  </thead>\n",
       "  <tbody>\n",
       "    <tr>\n",
       "      <th>0</th>\n",
       "      <td>吳孟輯皮膚科診所</td>\n",
       "      <td>診所</td>\n",
       "      <td>吳先生</td>\n",
       "      <td>診所</td>\n",
       "      <td>06-2826655</td>\n",
       "      <td>200萬元</td>\n",
       "      <td>暫不提供</td>\n",
       "      <td>2人</td>\n",
       "      <td>台南市安南區安和路一段80號</td>\n",
       "      <td>NaN</td>\n",
       "      <td>None</td>\n",
       "    </tr>\n",
       "    <tr>\n",
       "      <th>1</th>\n",
       "      <td>上億通訊行</td>\n",
       "      <td>其他電信及通訊相關業</td>\n",
       "      <td>暫不提供</td>\n",
       "      <td>其他電信及通訊相關業</td>\n",
       "      <td>暫不提供</td>\n",
       "      <td>暫不提供</td>\n",
       "      <td>暫不提供</td>\n",
       "      <td>暫不提供</td>\n",
       "      <td>暫不提供</td>\n",
       "      <td>NaN</td>\n",
       "      <td>None</td>\n",
       "    </tr>\n",
       "    <tr>\n",
       "      <th>2</th>\n",
       "      <td>昱光能源股份有限公司</td>\n",
       "      <td>熱能供應業</td>\n",
       "      <td>柳小姐</td>\n",
       "      <td>再生能源產業</td>\n",
       "      <td>暫不提供</td>\n",
       "      <td>3250萬元</td>\n",
       "      <td>暫不提供</td>\n",
       "      <td>8人</td>\n",
       "      <td>台南市永康區永大路二段</td>\n",
       "      <td>NaN</td>\n",
       "      <td>None</td>\n",
       "    </tr>\n",
       "    <tr>\n",
       "      <th>3</th>\n",
       "      <td>阿賢工程有限公司</td>\n",
       "      <td>其他營造業</td>\n",
       "      <td>蔡先生</td>\n",
       "      <td>其他營造業</td>\n",
       "      <td>暫不提供</td>\n",
       "      <td>100萬元</td>\n",
       "      <td>暫不提供</td>\n",
       "      <td>5人</td>\n",
       "      <td>台南市東區小東里東興路298號1樓</td>\n",
       "      <td>https://m.facebook.com/AXianShiYe</td>\n",
       "      <td>None</td>\n",
       "    </tr>\n",
       "    <tr>\n",
       "      <th>4</th>\n",
       "      <td>揚霖開發有限公司</td>\n",
       "      <td>其他營造業</td>\n",
       "      <td>暫不提供</td>\n",
       "      <td>建築工程</td>\n",
       "      <td>暫不提供</td>\n",
       "      <td>暫不提供</td>\n",
       "      <td>暫不提供</td>\n",
       "      <td>5人</td>\n",
       "      <td>暫不提供</td>\n",
       "      <td>NaN</td>\n",
       "      <td>None</td>\n",
       "    </tr>\n",
       "    <tr>\n",
       "      <th>...</th>\n",
       "      <td>...</td>\n",
       "      <td>...</td>\n",
       "      <td>...</td>\n",
       "      <td>...</td>\n",
       "      <td>...</td>\n",
       "      <td>...</td>\n",
       "      <td>...</td>\n",
       "      <td>...</td>\n",
       "      <td>...</td>\n",
       "      <td>...</td>\n",
       "      <td>...</td>\n",
       "    </tr>\n",
       "    <tr>\n",
       "      <th>2965</th>\n",
       "      <td>大嘉禾企業社</td>\n",
       "      <td>食品什貨批發業</td>\n",
       "      <td>王先生</td>\n",
       "      <td>食品什貨批發業</td>\n",
       "      <td>06-2022955</td>\n",
       "      <td>暫不提供</td>\n",
       "      <td>06-2022958</td>\n",
       "      <td>暫不提供</td>\n",
       "      <td>台南市永康區鹽行里正南三路146號</td>\n",
       "      <td>NaN</td>\n",
       "      <td>None</td>\n",
       "    </tr>\n",
       "    <tr>\n",
       "      <th>2966</th>\n",
       "      <td>FINOHAIRSALON_課里絲髮藝館</td>\n",
       "      <td>美髮業</td>\n",
       "      <td>周先生</td>\n",
       "      <td>美髮業</td>\n",
       "      <td>06-2811589</td>\n",
       "      <td>暫不提供</td>\n",
       "      <td>暫不提供</td>\n",
       "      <td>5人</td>\n",
       "      <td>台南市北區成德里和緯路2段153號1樓</td>\n",
       "      <td>NaN</td>\n",
       "      <td>None</td>\n",
       "    </tr>\n",
       "    <tr>\n",
       "      <th>2967</th>\n",
       "      <td>寶銳企業有限公司</td>\n",
       "      <td>建築及工程技術服務業</td>\n",
       "      <td>杜小姐</td>\n",
       "      <td>致力於低碳景觀環境之開發及服務</td>\n",
       "      <td>暫不提供</td>\n",
       "      <td>650萬元</td>\n",
       "      <td>06-2601594</td>\n",
       "      <td>10人</td>\n",
       "      <td>台南市東區崇善路390號</td>\n",
       "      <td>http://www.greenroof.com.tw/</td>\n",
       "      <td>None</td>\n",
       "    </tr>\n",
       "    <tr>\n",
       "      <th>2968</th>\n",
       "      <td>有邑家咖啡店</td>\n",
       "      <td>其他餐飲業</td>\n",
       "      <td>暫不提供</td>\n",
       "      <td>咖啡店，咖啡廳，飲料店業，精品咖啡，早午餐</td>\n",
       "      <td>暫不提供</td>\n",
       "      <td>30萬元</td>\n",
       "      <td>暫不提供</td>\n",
       "      <td>3人</td>\n",
       "      <td>暫不提供</td>\n",
       "      <td>NaN</td>\n",
       "      <td>None</td>\n",
       "    </tr>\n",
       "    <tr>\n",
       "      <th>2969</th>\n",
       "      <td>台南市私立聖佑正音數學短期補習班</td>\n",
       "      <td>補習班</td>\n",
       "      <td>暫不提供</td>\n",
       "      <td>補習班</td>\n",
       "      <td>暫不提供</td>\n",
       "      <td>暫不提供</td>\n",
       "      <td>暫不提供</td>\n",
       "      <td>暫不提供</td>\n",
       "      <td>暫不提供</td>\n",
       "      <td>NaN</td>\n",
       "      <td>None</td>\n",
       "    </tr>\n",
       "  </tbody>\n",
       "</table>\n",
       "<p>2970 rows × 11 columns</p>\n",
       "</div>"
      ],
      "text/plain": [
       "                      公司名稱        產業類別   聯絡人                   產業描述  \\\n",
       "0                 吳孟輯皮膚科診所          診所   吳先生                     診所   \n",
       "1                    上億通訊行  其他電信及通訊相關業  暫不提供             其他電信及通訊相關業   \n",
       "2               昱光能源股份有限公司       熱能供應業   柳小姐                 再生能源產業   \n",
       "3                 阿賢工程有限公司       其他營造業   蔡先生                  其他營造業   \n",
       "4                 揚霖開發有限公司       其他營造業  暫不提供                   建築工程   \n",
       "...                    ...         ...   ...                    ...   \n",
       "2965                大嘉禾企業社     食品什貨批發業   王先生                食品什貨批發業   \n",
       "2966  FINOHAIRSALON_課里絲髮藝館         美髮業   周先生                    美髮業   \n",
       "2967              寶銳企業有限公司  建築及工程技術服務業   杜小姐        致力於低碳景觀環境之開發及服務   \n",
       "2968                有邑家咖啡店       其他餐飲業  暫不提供  咖啡店，咖啡廳，飲料店業，精品咖啡，早午餐   \n",
       "2969      台南市私立聖佑正音數學短期補習班         補習班  暫不提供                    補習班   \n",
       "\n",
       "              電話     資本額          傳真  員工人數                   地址  \\\n",
       "0     06-2826655   200萬元        暫不提供    2人       台南市安南區安和路一段80號   \n",
       "1           暫不提供    暫不提供        暫不提供  暫不提供                 暫不提供   \n",
       "2           暫不提供  3250萬元        暫不提供    8人          台南市永康區永大路二段   \n",
       "3           暫不提供   100萬元        暫不提供    5人    台南市東區小東里東興路298號1樓   \n",
       "4           暫不提供    暫不提供        暫不提供    5人                 暫不提供   \n",
       "...          ...     ...         ...   ...                  ...   \n",
       "2965  06-2022955    暫不提供  06-2022958  暫不提供    台南市永康區鹽行里正南三路146號   \n",
       "2966  06-2811589    暫不提供        暫不提供    5人  台南市北區成德里和緯路2段153號1樓   \n",
       "2967        暫不提供   650萬元  06-2601594   10人         台南市東區崇善路390號   \n",
       "2968        暫不提供    30萬元        暫不提供    3人                 暫不提供   \n",
       "2969        暫不提供    暫不提供        暫不提供  暫不提供                 暫不提供   \n",
       "\n",
       "                                   公司網址    官方  \n",
       "0                                   NaN  None  \n",
       "1                                   NaN  None  \n",
       "2                                   NaN  None  \n",
       "3     https://m.facebook.com/AXianShiYe  None  \n",
       "4                                   NaN  None  \n",
       "...                                 ...   ...  \n",
       "2965                                NaN  None  \n",
       "2966                                NaN  None  \n",
       "2967       http://www.greenroof.com.tw/  None  \n",
       "2968                                NaN  None  \n",
       "2969                                NaN  None  \n",
       "\n",
       "[2970 rows x 11 columns]"
      ]
     },
     "execution_count": 13,
     "metadata": {},
     "output_type": "execute_result"
    }
   ],
   "source": [
    "df_104.insert(10, \"官方\", None, True)\n",
    "df_104"
   ]
  },
  {
   "cell_type": "code",
   "execution_count": 14,
   "metadata": {},
   "outputs": [],
   "source": [
    "df_104.insert(11, '地址相同', None, True)\n",
    "df_104.insert(12, '資本額相同', None, True)"
   ]
  },
  {
   "cell_type": "code",
   "execution_count": 21,
   "metadata": {},
   "outputs": [],
   "source": [
    "df_104 = df_104.rename({'資本額相同':'資本額誤差'}, axis=1)"
   ]
  },
  {
   "cell_type": "code",
   "execution_count": 22,
   "metadata": {},
   "outputs": [],
   "source": [
    "df_104.to_csv('104_Tainan.csv',index=False)"
   ]
  },
  {
   "attachments": {},
   "cell_type": "markdown",
   "metadata": {},
   "source": [
    "### 爬蟲下來的資料，地址中的\"台\"跟會跟官方的\"臺\"不同，因此把爬蟲資料中的\"台\"換成\"臺\""
   ]
  },
  {
   "cell_type": "code",
   "execution_count": 15,
   "metadata": {},
   "outputs": [],
   "source": [
    "for i in range(len(df_104.index)):\n",
    "    address = df_104.loc[i, \"地址\"]\n",
    "    df_104.loc[i, \"地址\"] = address.replace('台', '臺')\n",
    "df_104.to_csv('104_Tainan.csv',index=False)"
   ]
  },
  {
   "cell_type": "code",
   "execution_count": 18,
   "metadata": {},
   "outputs": [
    {
     "name": "stdout",
     "output_type": "stream",
     "text": [
      "臺南市\n"
     ]
    }
   ],
   "source": [
    "address = df_104.loc[0, \"地址\"]\n",
    "print(address[0:3])"
   ]
  },
  {
   "cell_type": "markdown",
   "metadata": {},
   "source": [
    "## 正式開始比對"
   ]
  },
  {
   "cell_type": "markdown",
   "metadata": {},
   "source": [
    "### 用名稱搜尋，確認地址、資本額是否一樣"
   ]
  },
  {
   "cell_type": "code",
   "execution_count": 21,
   "metadata": {},
   "outputs": [],
   "source": [
    "for i in range(len(df_104.index)):\n",
    "    name = df_104.loc[i, \"公司名稱\"]\n",
    "    address = df_104.loc[i, \"地址\"]\n",
    "    capital = df_104.loc[i, '資本額']\n",
    "    if(\"億\" in capital and \"萬元\" not in capital):\n",
    "        capital = capital.replace(\"億\", \"00000000\")\n",
    "\n",
    "    capital = capital.replace(\"萬元\", \"0000\").replace(\"億\", \"\")\n",
    "    \n",
    "    isOfficial = df_official.loc[df_official['營業人名稱'] == name]\n",
    "\n",
    "    # 是官方\n",
    "    if isOfficial.empty != 1:\n",
    "        df_104.loc[i, '官方'] = 'Y'\n",
    "        index = isOfficial.index[isOfficial['營業人名稱'] == name].tolist()\n",
    "\n",
    "        # 若地址不同\n",
    "        if(isOfficial.loc[index[0], '營業地址'] != address):\n",
    "            address_official = isOfficial.loc[index[0], '營業地址']\n",
    "            \n",
    "            # 暫不提供\n",
    "            if(address == '暫不提供'):\n",
    "                df_104.loc[i, '地址相同'] = '無法判斷'\n",
    "\n",
    "            # 縣市不相同\n",
    "            elif(address[0:3] != address_official[0:3]):\n",
    "                df_104.loc[i, '地址相同'] = '完全不同'\n",
    "            \n",
    "            # 詳細地址不同\n",
    "            elif(address[4:] != address_official[4:]):\n",
    "                df_104.loc[i, '地址相同'] = '縣市相同'\n",
    "        \n",
    "        # 若地址相同\n",
    "        else:\n",
    "            df_104.loc[i, '地址相同'] = '完全相同'\n",
    "        \n",
    "        # 若資本額不同\n",
    "        if(str(isOfficial.loc[index[0], '資本額']) != capital):\n",
    "            capital_official = str(isOfficial.loc[index[0], '資本額'])\n",
    "\n",
    "            #暫不提供\n",
    "            if(capital == \"暫不提供\"):\n",
    "                df_104.loc[i, '資本額誤差'] = '無法判斷'\n",
    "\n",
    "            #誤差五倍以內\n",
    "            elif(abs(int(capital_official) - int(capital)) < 5 * int(capital_official)):\n",
    "                df_104.loc[i, '資本額誤差'] = '誤差五倍以內'\n",
    "\n",
    "            #誤差十倍以內\n",
    "            elif(abs(int(capital_official) - int(capital)) < 10 * int(capital_official)):\n",
    "                df_104.loc[i, '資本額誤差'] = '誤差十倍以內'\n",
    "\n",
    "            #誤差十倍以上\n",
    "            else:\n",
    "                df_104.loc[i, '資本額誤差'] = '誤差十倍以上'\n",
    "            \n",
    "        # 若資本額誤差一倍以內\n",
    "        else:\n",
    "            df_104.loc[i, '資本額誤差'] = '完全相同'\n",
    "\n",
    "    #非官方\n",
    "    else:       \n",
    "        df_104.loc[i, '官方'] = 'N'"
   ]
  },
  {
   "cell_type": "code",
   "execution_count": 23,
   "metadata": {},
   "outputs": [],
   "source": [
    "df_104.to_csv('104_Tainan.csv',index=False)"
   ]
  },
  {
   "cell_type": "code",
   "execution_count": 24,
   "metadata": {},
   "outputs": [
    {
     "data": {
      "text/plain": [
       "2970"
      ]
     },
     "execution_count": 24,
     "metadata": {},
     "output_type": "execute_result"
    }
   ],
   "source": [
    "#save sql database in mysql server\n",
    "import mysql.connector\n",
    "from sqlalchemy import create_engine\n",
    "\n",
    "engine = create_engine('mysql+mysqldb://root:@localhost:3306/company_analysis', echo = False)\n",
    "df_104.to_sql(name = 'tainan_104', con = engine, if_exists = 'replace', index = False)"
   ]
  }
 ],
 "metadata": {
  "kernelspec": {
   "display_name": "Python 3.9.12 ('base')",
   "language": "python",
   "name": "python3"
  },
  "language_info": {
   "codemirror_mode": {
    "name": "ipython",
    "version": 3
   },
   "file_extension": ".py",
   "mimetype": "text/x-python",
   "name": "python",
   "nbconvert_exporter": "python",
   "pygments_lexer": "ipython3",
   "version": "3.9.12"
  },
  "orig_nbformat": 4,
  "vscode": {
   "interpreter": {
    "hash": "ba181fbcb27fcf7ec77d588abcd4688aa418d73524c03bafafb5f01e5bb121dd"
   }
  }
 },
 "nbformat": 4,
 "nbformat_minor": 2
}
