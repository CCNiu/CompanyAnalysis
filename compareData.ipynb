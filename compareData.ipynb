{
 "cells": [
  {
   "cell_type": "code",
   "execution_count": 1,
   "metadata": {},
   "outputs": [],
   "source": [
    "import pandas as pd"
   ]
  },
  {
   "cell_type": "code",
   "execution_count": 39,
   "metadata": {},
   "outputs": [],
   "source": [
    "df_official = pd.read_csv('BGMOPEN1.csv')\n",
    "df_104 = pd.read_csv('104_Tainan.csv')"
   ]
  },
  {
   "cell_type": "markdown",
   "metadata": {},
   "source": [
    "## 當初爬蟲時，名稱前後各有一個空格，導致和官方資料比對失敗"
   ]
  },
  {
   "cell_type": "code",
   "execution_count": 68,
   "metadata": {},
   "outputs": [],
   "source": [
    "for i in range(len(df_104.index)):\n",
    "    name = df_104.loc[i, \"公司名稱\"]\n",
    "    df_104.loc[i, \"公司名稱\"] = name.replace(' ', '')\n",
    "df_104.to_csv('104_Tainan.csv',index=False)"
   ]
  },
  {
   "cell_type": "code",
   "execution_count": 71,
   "metadata": {},
   "outputs": [
    {
     "name": "stdout",
     "output_type": "stream",
     "text": [
      "         公司名稱          產業類別   聯絡人          產業描述    電話    資本額    傳真 員工人數    地址  \\\n",
      "282  啟昱科技有限公司  電子通訊／電腦週邊批發業  暫不提供  電子通訊╱電腦週邊批發業  暫不提供  500萬元  暫不提供  20人  暫不提供   \n",
      "\n",
      "                         公司網址  \n",
      "282  http://www.chief-uni.com  \n"
     ]
    }
   ],
   "source": [
    "col = df_104.loc[df_104['公司名稱'] == '啟昱科技有限公司']\n",
    "print(col)"
   ]
  },
  {
   "cell_type": "code",
   "execution_count": 70,
   "metadata": {},
   "outputs": [
    {
     "name": "stdout",
     "output_type": "stream",
     "text": [
      "                        營業地址      統一編號  總機構統一編號     營業人名稱      資本額     設立日期  \\\n",
      "1220664  臺南市新化區北勢里北勢１１３－７號１樓  54550001      NaN  啟昱科技有限公司  5000000  1021219   \n",
      "\n",
      "        組織別名稱 使用統一發票    行業代號           名稱     行業代號1          名稱1  行業代號2  名稱2  \\\n",
      "1220664  有限公司      Y  464211  電子器材、電子設備批發  464999.0  未分類其他機械器具批發    NaN  NaN   \n",
      "\n",
      "         行業代號3  名稱3  \n",
      "1220664    NaN  NaN  \n"
     ]
    }
   ],
   "source": [
    "isOfficial = df_official.loc[df_official['營業人名稱'] == '啟昱科技有限公司']\n",
    "if isOfficial.empty != 1:\n",
    "        print(isOfficial)"
   ]
  },
  {
   "cell_type": "markdown",
   "metadata": {},
   "source": [
    "## 正式開始比對"
   ]
  },
  {
   "cell_type": "markdown",
   "metadata": {},
   "source": [
    "### 用名稱搜尋，確認地址、資本額是否一樣"
   ]
  },
  {
   "cell_type": "code",
   "execution_count": 97,
   "metadata": {},
   "outputs": [
    {
     "name": "stdout",
     "output_type": "stream",
     "text": [
      "臺南市東　區崇文里崇德二十街４２號１樓\n",
      "台南市永康區永大路二段\n"
     ]
    }
   ],
   "source": [
    "isOfficial = df_official.loc[df_official['營業人名稱'] == '昱光能源股份有限公司']\n",
    "index1 = isOfficial.index[isOfficial['營業人名稱'] == '昱光能源股份有限公司'].tolist()\n",
    "print(isOfficial.loc[index1[0], '營業地址'])\n",
    "from104 = df_104.loc[df_104['公司名稱'] == '昱光能源股份有限公司']\n",
    "index2 = from104.index[from104['公司名稱'] == '昱光能源股份有限公司'].tolist()\n",
    "print(from104.loc[index2[0], '地址'])"
   ]
  },
  {
   "cell_type": "code",
   "execution_count": 93,
   "metadata": {},
   "outputs": [
    {
     "name": "stdout",
     "output_type": "stream",
     "text": [
      "上億通訊行 Addresses are different.\n",
      "Capitals are different.\n",
      "昱光能源股份有限公司 Addresses are different.\n",
      "Capitals are different.\n",
      "阿賢工程有限公司 Addresses are different.\n",
      "Capitals are different.\n",
      "揚霖開發有限公司 Addresses are different.\n",
      "Capitals are different.\n",
      "牛五蔵餐飲有限公司 Addresses are different.\n",
      "Capitals are different.\n",
      "鉅惠企業股份有限公司 Addresses are different.\n",
      "Capitals are different.\n",
      "鴻盛機械有限公司 Addresses are different.\n",
      "Capitals are different.\n",
      "友鋮股份有限公司 Addresses are different.\n",
      "Capitals are different.\n",
      "升鼎商行 Addresses are different.\n",
      "Capitals are different.\n",
      "恩成機械有限公司 Addresses are different.\n",
      "Capitals are different.\n",
      "有鈞科技有限公司 Addresses are different.\n",
      "Capitals are different.\n",
      "百鋼金屬工業股份有限公司 Addresses are different.\n",
      "Capitals are different.\n",
      "瀚揚文創有限公司 Addresses are different.\n",
      "Capitals are different.\n",
      "艸祭民宿 Addresses are different.\n",
      "Capitals are different.\n",
      "合漢企業社 Addresses are different.\n",
      "Capitals are different.\n",
      "定承創意有限公司 Addresses are different.\n",
      "Capitals are different.\n",
      "兔子創意股份有限公司 Addresses are different.\n",
      "Capitals are different.\n",
      "統上開發建設股份有限公司 Addresses are different.\n",
      "Capitals are different.\n",
      "統亞電子科技股份有限公司 Addresses are different.\n",
      "Capitals are different.\n",
      "安達營造有限公司 Addresses are different.\n",
      "Capitals are different.\n",
      "柏州企業股份有限公司 Addresses are different.\n",
      "Capitals are different.\n",
      "楷懿人力仲介有限公司 Addresses are different.\n",
      "Capitals are different.\n",
      "新聖網遊企業 Addresses are different.\n",
      "Capitals are different.\n",
      "郁之泉企業股份有限公司 Addresses are different.\n",
      "Capitals are different.\n",
      "芫成水果行 Addresses are different.\n",
      "Capitals are different.\n",
      "太子噴砂有限公司 Addresses are different.\n",
      "Capitals are different.\n",
      "全泰科技有限公司 Addresses are different.\n",
      "Capitals are different.\n",
      "圓明工業股份有限公司 Addresses are different.\n",
      "Capitals are different.\n",
      "至強商行 Addresses are different.\n",
      "Capitals are different.\n",
      "吉富展覽有限公司 Addresses are different.\n",
      "Capitals are different.\n",
      "米平方藝術工程有限公司 Addresses are different.\n",
      "Capitals are different.\n",
      "行動學習科技股份有限公司 Addresses are different.\n",
      "Capitals are different.\n",
      "天福宏承密封有限公司 Addresses are different.\n",
      "Capitals are different.\n",
      "大晉興業行 Addresses are different.\n",
      "Capitals are different.\n",
      "健崴企業有限公司 Addresses are different.\n",
      "Capitals are different.\n",
      "應誠窗簾股份有限公司 Addresses are different.\n",
      "Capitals are different.\n",
      "承鋐工業有限公司 Addresses are different.\n",
      "Capitals are different.\n"
     ]
    },
    {
     "ename": "KeyboardInterrupt",
     "evalue": "",
     "output_type": "error",
     "traceback": [
      "\u001b[1;31m---------------------------------------------------------------------------\u001b[0m",
      "\u001b[1;31mKeyboardInterrupt\u001b[0m                         Traceback (most recent call last)",
      "\u001b[1;32m~\\AppData\\Local\\Temp/ipykernel_26476/2484018600.py\u001b[0m in \u001b[0;36m<module>\u001b[1;34m\u001b[0m\n\u001b[0;32m      4\u001b[0m     \u001b[0mcapital\u001b[0m \u001b[1;33m=\u001b[0m \u001b[0mdf_104\u001b[0m\u001b[1;33m.\u001b[0m\u001b[0mloc\u001b[0m\u001b[1;33m[\u001b[0m\u001b[0mi\u001b[0m\u001b[1;33m,\u001b[0m \u001b[1;34m'資本額'\u001b[0m\u001b[1;33m]\u001b[0m\u001b[1;33m\u001b[0m\u001b[1;33m\u001b[0m\u001b[0m\n\u001b[0;32m      5\u001b[0m \u001b[1;33m\u001b[0m\u001b[0m\n\u001b[1;32m----> 6\u001b[1;33m     \u001b[0misOfficial\u001b[0m \u001b[1;33m=\u001b[0m \u001b[0mdf_official\u001b[0m\u001b[1;33m.\u001b[0m\u001b[0mloc\u001b[0m\u001b[1;33m[\u001b[0m\u001b[0mdf_official\u001b[0m\u001b[1;33m[\u001b[0m\u001b[1;34m'營業人名稱'\u001b[0m\u001b[1;33m]\u001b[0m \u001b[1;33m==\u001b[0m \u001b[0mname\u001b[0m\u001b[1;33m]\u001b[0m\u001b[1;33m\u001b[0m\u001b[1;33m\u001b[0m\u001b[0m\n\u001b[0m\u001b[0;32m      7\u001b[0m \u001b[1;33m\u001b[0m\u001b[0m\n\u001b[0;32m      8\u001b[0m     \u001b[1;32mif\u001b[0m \u001b[0misOfficial\u001b[0m\u001b[1;33m.\u001b[0m\u001b[0mempty\u001b[0m \u001b[1;33m!=\u001b[0m \u001b[1;36m1\u001b[0m\u001b[1;33m:\u001b[0m\u001b[1;33m\u001b[0m\u001b[1;33m\u001b[0m\u001b[0m\n",
      "\u001b[1;32mc:\\Users\\overf\\anaconda3\\lib\\site-packages\\pandas\\core\\indexing.py\u001b[0m in \u001b[0;36m__getitem__\u001b[1;34m(self, key)\u001b[0m\n\u001b[0;32m    965\u001b[0m \u001b[1;33m\u001b[0m\u001b[0m\n\u001b[0;32m    966\u001b[0m             \u001b[0mmaybe_callable\u001b[0m \u001b[1;33m=\u001b[0m \u001b[0mcom\u001b[0m\u001b[1;33m.\u001b[0m\u001b[0mapply_if_callable\u001b[0m\u001b[1;33m(\u001b[0m\u001b[0mkey\u001b[0m\u001b[1;33m,\u001b[0m \u001b[0mself\u001b[0m\u001b[1;33m.\u001b[0m\u001b[0mobj\u001b[0m\u001b[1;33m)\u001b[0m\u001b[1;33m\u001b[0m\u001b[1;33m\u001b[0m\u001b[0m\n\u001b[1;32m--> 967\u001b[1;33m             \u001b[1;32mreturn\u001b[0m \u001b[0mself\u001b[0m\u001b[1;33m.\u001b[0m\u001b[0m_getitem_axis\u001b[0m\u001b[1;33m(\u001b[0m\u001b[0mmaybe_callable\u001b[0m\u001b[1;33m,\u001b[0m \u001b[0maxis\u001b[0m\u001b[1;33m=\u001b[0m\u001b[0maxis\u001b[0m\u001b[1;33m)\u001b[0m\u001b[1;33m\u001b[0m\u001b[1;33m\u001b[0m\u001b[0m\n\u001b[0m\u001b[0;32m    968\u001b[0m \u001b[1;33m\u001b[0m\u001b[0m\n\u001b[0;32m    969\u001b[0m     \u001b[1;32mdef\u001b[0m \u001b[0m_is_scalar_access\u001b[0m\u001b[1;33m(\u001b[0m\u001b[0mself\u001b[0m\u001b[1;33m,\u001b[0m \u001b[0mkey\u001b[0m\u001b[1;33m:\u001b[0m \u001b[0mtuple\u001b[0m\u001b[1;33m)\u001b[0m\u001b[1;33m:\u001b[0m\u001b[1;33m\u001b[0m\u001b[1;33m\u001b[0m\u001b[0m\n",
      "\u001b[1;32mc:\\Users\\overf\\anaconda3\\lib\\site-packages\\pandas\\core\\indexing.py\u001b[0m in \u001b[0;36m_getitem_axis\u001b[1;34m(self, key, axis)\u001b[0m\n\u001b[0;32m   1180\u001b[0m             \u001b[1;32mreturn\u001b[0m \u001b[0mself\u001b[0m\u001b[1;33m.\u001b[0m\u001b[0m_get_slice_axis\u001b[0m\u001b[1;33m(\u001b[0m\u001b[0mkey\u001b[0m\u001b[1;33m,\u001b[0m \u001b[0maxis\u001b[0m\u001b[1;33m=\u001b[0m\u001b[0maxis\u001b[0m\u001b[1;33m)\u001b[0m\u001b[1;33m\u001b[0m\u001b[1;33m\u001b[0m\u001b[0m\n\u001b[0;32m   1181\u001b[0m         \u001b[1;32melif\u001b[0m \u001b[0mcom\u001b[0m\u001b[1;33m.\u001b[0m\u001b[0mis_bool_indexer\u001b[0m\u001b[1;33m(\u001b[0m\u001b[0mkey\u001b[0m\u001b[1;33m)\u001b[0m\u001b[1;33m:\u001b[0m\u001b[1;33m\u001b[0m\u001b[1;33m\u001b[0m\u001b[0m\n\u001b[1;32m-> 1182\u001b[1;33m             \u001b[1;32mreturn\u001b[0m \u001b[0mself\u001b[0m\u001b[1;33m.\u001b[0m\u001b[0m_getbool_axis\u001b[0m\u001b[1;33m(\u001b[0m\u001b[0mkey\u001b[0m\u001b[1;33m,\u001b[0m \u001b[0maxis\u001b[0m\u001b[1;33m=\u001b[0m\u001b[0maxis\u001b[0m\u001b[1;33m)\u001b[0m\u001b[1;33m\u001b[0m\u001b[1;33m\u001b[0m\u001b[0m\n\u001b[0m\u001b[0;32m   1183\u001b[0m         \u001b[1;32melif\u001b[0m \u001b[0mis_list_like_indexer\u001b[0m\u001b[1;33m(\u001b[0m\u001b[0mkey\u001b[0m\u001b[1;33m)\u001b[0m\u001b[1;33m:\u001b[0m\u001b[1;33m\u001b[0m\u001b[1;33m\u001b[0m\u001b[0m\n\u001b[0;32m   1184\u001b[0m \u001b[1;33m\u001b[0m\u001b[0m\n",
      "\u001b[1;32mc:\\Users\\overf\\anaconda3\\lib\\site-packages\\pandas\\core\\indexing.py\u001b[0m in \u001b[0;36m_getbool_axis\u001b[1;34m(self, key, axis)\u001b[0m\n\u001b[0;32m    983\u001b[0m         \u001b[0mlabels\u001b[0m \u001b[1;33m=\u001b[0m \u001b[0mself\u001b[0m\u001b[1;33m.\u001b[0m\u001b[0mobj\u001b[0m\u001b[1;33m.\u001b[0m\u001b[0m_get_axis\u001b[0m\u001b[1;33m(\u001b[0m\u001b[0maxis\u001b[0m\u001b[1;33m)\u001b[0m\u001b[1;33m\u001b[0m\u001b[1;33m\u001b[0m\u001b[0m\n\u001b[0;32m    984\u001b[0m         \u001b[0mkey\u001b[0m \u001b[1;33m=\u001b[0m \u001b[0mcheck_bool_indexer\u001b[0m\u001b[1;33m(\u001b[0m\u001b[0mlabels\u001b[0m\u001b[1;33m,\u001b[0m \u001b[0mkey\u001b[0m\u001b[1;33m)\u001b[0m\u001b[1;33m\u001b[0m\u001b[1;33m\u001b[0m\u001b[0m\n\u001b[1;32m--> 985\u001b[1;33m         \u001b[0minds\u001b[0m \u001b[1;33m=\u001b[0m \u001b[0mkey\u001b[0m\u001b[1;33m.\u001b[0m\u001b[0mnonzero\u001b[0m\u001b[1;33m(\u001b[0m\u001b[1;33m)\u001b[0m\u001b[1;33m[\u001b[0m\u001b[1;36m0\u001b[0m\u001b[1;33m]\u001b[0m\u001b[1;33m\u001b[0m\u001b[1;33m\u001b[0m\u001b[0m\n\u001b[0m\u001b[0;32m    986\u001b[0m         \u001b[1;32mreturn\u001b[0m \u001b[0mself\u001b[0m\u001b[1;33m.\u001b[0m\u001b[0mobj\u001b[0m\u001b[1;33m.\u001b[0m\u001b[0m_take_with_is_copy\u001b[0m\u001b[1;33m(\u001b[0m\u001b[0minds\u001b[0m\u001b[1;33m,\u001b[0m \u001b[0maxis\u001b[0m\u001b[1;33m=\u001b[0m\u001b[0maxis\u001b[0m\u001b[1;33m)\u001b[0m\u001b[1;33m\u001b[0m\u001b[1;33m\u001b[0m\u001b[0m\n\u001b[0;32m    987\u001b[0m \u001b[1;33m\u001b[0m\u001b[0m\n",
      "\u001b[1;31mKeyboardInterrupt\u001b[0m: "
     ]
    }
   ],
   "source": [
    "for i in range(len(df_104.index)):\n",
    "    name = df_104.loc[i, \"公司名稱\"]\n",
    "    address = df_104.loc[i, \"地址\"]\n",
    "    capital = df_104.loc[i, '資本額']\n",
    "    \n",
    "    isOfficial = df_official.loc[df_official['營業人名稱'] == name]\n",
    "\n",
    "    if isOfficial.empty != 1:\n",
    "        index = isOfficial.index[isOfficial['營業人名稱'] == name].tolist()\n",
    "        if(isOfficial.loc[index[0], '營業地址'] != address):\n",
    "            print(name, 'Addresses are different.')\n",
    "        if(isOfficial.loc[index[0], '資本額'] != capital):\n",
    "            print('Capitals are different.')"
   ]
  }
 ],
 "metadata": {
  "kernelspec": {
   "display_name": "Python 3.9.12 ('base')",
   "language": "python",
   "name": "python3"
  },
  "language_info": {
   "codemirror_mode": {
    "name": "ipython",
    "version": 3
   },
   "file_extension": ".py",
   "mimetype": "text/x-python",
   "name": "python",
   "nbconvert_exporter": "python",
   "pygments_lexer": "ipython3",
   "version": "3.9.12"
  },
  "orig_nbformat": 4,
  "vscode": {
   "interpreter": {
    "hash": "ba181fbcb27fcf7ec77d588abcd4688aa418d73524c03bafafb5f01e5bb121dd"
   }
  }
 },
 "nbformat": 4,
 "nbformat_minor": 2
}
