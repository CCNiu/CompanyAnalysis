{
 "cells": [
  {
   "cell_type": "code",
   "execution_count": 3,
   "metadata": {},
   "outputs": [],
   "source": [
    "import pandas as pd\n",
    "\n",
    "df = pd.read_csv('BGMOPEN1.csv')"
   ]
  },
  {
   "cell_type": "code",
   "execution_count": 4,
   "metadata": {},
   "outputs": [
    {
     "name": "stdout",
     "output_type": "stream",
     "text": [
      "營業地址       南投縣中寮鄉中寮村永平路３７１號一樓\n",
      "統一編號                 38965019\n",
      "總機構統一編號                   NaN\n",
      "營業人名稱                    原味商行\n",
      "資本額                    100000\n",
      "設立日期                  1040413\n",
      "組織別名稱                      獨資\n",
      "使用統一發票                      N\n",
      "行業代號                   472927\n",
      "名稱                     豆類製品零售\n",
      "行業代號1                     NaN\n",
      "名稱1                       NaN\n",
      "行業代號2                     NaN\n",
      "名稱2                       NaN\n",
      "行業代號3                     NaN\n",
      "名稱3                       NaN\n",
      "Name: 0, dtype: object\n"
     ]
    }
   ],
   "source": [
    "print(df.iloc[0])"
   ]
  },
  {
   "cell_type": "code",
   "execution_count": 5,
   "metadata": {},
   "outputs": [
    {
     "data": {
      "text/plain": [
       "1578536"
      ]
     },
     "execution_count": 5,
     "metadata": {},
     "output_type": "execute_result"
    }
   ],
   "source": [
    "import mysql.connector\n",
    "from sqlalchemy import create_engine\n",
    "\n",
    "engine = create_engine('mysql+mysqldb://root:@localhost:3306/company_analysis', echo = False)\n",
    "df.to_sql(name = 'legal_company', con = engine, if_exists = 'append', index = False)"
   ]
  }
 ],
 "metadata": {
  "kernelspec": {
   "display_name": "Python 3.9.12 ('base')",
   "language": "python",
   "name": "python3"
  },
  "language_info": {
   "codemirror_mode": {
    "name": "ipython",
    "version": 3
   },
   "file_extension": ".py",
   "mimetype": "text/x-python",
   "name": "python",
   "nbconvert_exporter": "python",
   "pygments_lexer": "ipython3",
   "version": "3.9.12"
  },
  "orig_nbformat": 4,
  "vscode": {
   "interpreter": {
    "hash": "ba181fbcb27fcf7ec77d588abcd4688aa418d73524c03bafafb5f01e5bb121dd"
   }
  }
 },
 "nbformat": 4,
 "nbformat_minor": 2
}
